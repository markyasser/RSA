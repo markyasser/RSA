{
 "cells": [
  {
   "cell_type": "code",
   "execution_count": 1,
   "metadata": {},
   "outputs": [],
   "source": [
    "import time\n",
    "import rsa\n",
    "import numpy as np\n",
    "import matplotlib.pyplot as plt\n",
    "import generate_key as key"
   ]
  },
  {
   "cell_type": "code",
   "execution_count": 2,
   "metadata": {},
   "outputs": [],
   "source": [
    "start = 5\n",
    "end = 31"
   ]
  },
  {
   "cell_type": "code",
   "execution_count": 3,
   "metadata": {},
   "outputs": [
    {
     "name": "stdout",
     "output_type": "stream",
     "text": [
      "e: 19, d: 79, d_init: 1\n",
      "Execution time: 0.0 seconds , i = 4\n",
      "e: 49, d: 97, d_init: 1\n",
      "Execution time: 0.0 seconds , i = 5\n",
      "e: 417, d: 65, d_init: 1\n",
      "Execution time: 0.0 seconds , i = 6\n",
      "e: 227, d: 75, d_init: 1\n",
      "Execution time: 0.0 seconds , i = 7\n",
      "e: 2203, d: 1159, d_init: 1\n",
      "Execution time: 0.0 seconds , i = 8\n",
      "e: 513, d: 401, d_init: 1\n",
      "Execution time: 0.0 seconds , i = 9\n",
      "e: 1441, d: 5501, d_init: 1\n",
      "Execution time: 0.003 seconds , i = 10\n",
      "e: 9823, d: 9871, d_init: 1\n",
      "Execution time: 0.0117 seconds , i = 11\n",
      "e: 15559, d: 11539, d_init: 1\n",
      "Execution time: 0.003 seconds , i = 12\n",
      "e: 12917, d: 12053, d_init: 1\n",
      "Execution time: 0.001 seconds , i = 13\n",
      "e: 32833, d: 150337, d_init: 1\n",
      "Execution time: 0.1238 seconds , i = 14\n",
      "e: 71539, d: 115339, d_init: 1\n",
      "Execution time: 0.005 seconds , i = 15\n",
      "e: 531377, d: 41153, d_init: 1\n",
      "Execution time: 0.0659 seconds , i = 16\n",
      "e: 129961, d: 334441, d_init: 1\n",
      "Execution time: 0.0009 seconds , i = 17\n",
      "e: 239587, d: 594107, d_init: 1\n",
      "Execution time: 1.2132 seconds , i = 18\n",
      "e: 3043819, d: 2954179, d_init: 1\n",
      "Execution time: 0.1125 seconds , i = 19\n",
      "e: 11908321, d: 2251777, d_init: 1\n",
      "Execution time: 0.5813 seconds , i = 20\n",
      "e: 6429937, d: 10923073, d_init: 1\n",
      "Execution time: 3.3264 seconds , i = 21\n",
      "e: 3666589, d: 13006309, d_init: 1\n",
      "Execution time: 0.523 seconds , i = 22\n",
      "e: 7760297, d: 16097105, d_init: 1\n",
      "Execution time: 15.6036 seconds , i = 23\n",
      "e: 59397227, d: 78409043, d_init: 1\n",
      "Execution time: 8.8305 seconds , i = 24\n",
      "e: 74274253, d: 108413125, d_init: 1\n",
      "Execution time: 17.5737 seconds , i = 25\n",
      "e: 359862947, d: 45198603, d_init: 1\n",
      "Execution time: 101.3579 seconds , i = 26\n",
      "e: 422971225, d: 135103801, d_init: 1\n"
     ]
    },
    {
     "ename": "KeyboardInterrupt",
     "evalue": "",
     "output_type": "error",
     "traceback": [
      "\u001b[1;31m---------------------------------------------------------------------------\u001b[0m",
      "\u001b[1;31mKeyboardInterrupt\u001b[0m                         Traceback (most recent call last)",
      "\u001b[1;32md:\\Engineering\\Third Year\\Second Semester\\Cryptography\\Assignments\\RSA\\attack.ipynb Cell 3\u001b[0m in \u001b[0;36m<cell line: 3>\u001b[1;34m()\u001b[0m\n\u001b[0;32m     <a href='vscode-notebook-cell:/d%3A/Engineering/Third%20Year/Second%20Semester/Cryptography/Assignments/RSA/attack.ipynb#W2sZmlsZQ%3D%3D?line=13'>14</a>\u001b[0m \u001b[39mprint\u001b[39m(\u001b[39mf\u001b[39m\u001b[39m\"\u001b[39m\u001b[39me: \u001b[39m\u001b[39m{\u001b[39;00me\u001b[39m}\u001b[39;00m\u001b[39m, d: \u001b[39m\u001b[39m{\u001b[39;00md\u001b[39m}\u001b[39;00m\u001b[39m, d_init: \u001b[39m\u001b[39m{\u001b[39;00md_init\u001b[39m}\u001b[39;00m\u001b[39m\"\u001b[39m)\n\u001b[0;32m     <a href='vscode-notebook-cell:/d%3A/Engineering/Third%20Year/Second%20Semester/Cryptography/Assignments/RSA/attack.ipynb#W2sZmlsZQ%3D%3D?line=14'>15</a>\u001b[0m \u001b[39mwhile\u001b[39;00m decrypted \u001b[39m!=\u001b[39m rsa\u001b[39m.\u001b[39mgroup_decrypt(encrypted, d_init, n):\n\u001b[1;32m---> <a href='vscode-notebook-cell:/d%3A/Engineering/Third%20Year/Second%20Semester/Cryptography/Assignments/RSA/attack.ipynb#W2sZmlsZQ%3D%3D?line=15'>16</a>\u001b[0m     d_init \u001b[39m+\u001b[39m\u001b[39m=\u001b[39m \u001b[39m1\u001b[39m\n\u001b[0;32m     <a href='vscode-notebook-cell:/d%3A/Engineering/Third%20Year/Second%20Semester/Cryptography/Assignments/RSA/attack.ipynb#W2sZmlsZQ%3D%3D?line=16'>17</a>\u001b[0m end \u001b[39m=\u001b[39m time\u001b[39m.\u001b[39mtime()\n\u001b[0;32m     <a href='vscode-notebook-cell:/d%3A/Engineering/Third%20Year/Second%20Semester/Cryptography/Assignments/RSA/attack.ipynb#W2sZmlsZQ%3D%3D?line=17'>18</a>\u001b[0m \u001b[39mprint\u001b[39m(\u001b[39mf\u001b[39m\u001b[39m\"\u001b[39m\u001b[39mExecution time: \u001b[39m\u001b[39m{\u001b[39;00m\u001b[39mround\u001b[39m(end \u001b[39m-\u001b[39m start, \u001b[39m4\u001b[39m)\u001b[39m}\u001b[39;00m\u001b[39m seconds , i = \u001b[39m\u001b[39m{\u001b[39;00mi\u001b[39m}\u001b[39;00m\u001b[39m\"\u001b[39m)\n",
      "\u001b[1;31mKeyboardInterrupt\u001b[0m: "
     ]
    }
   ],
   "source": [
    "text = 'h'\n",
    "decrypt_time = []\n",
    "for i in range(start, end + 1):\n",
    "    (e, n), (d, n) = key.generate_key(i)\n",
    "    encoded = rsa.encode(text)\n",
    "    encrypted = rsa.group_encrypt(encoded, e, n)\n",
    "    decrypted = rsa.group_decrypt(encrypted, d, n) # real decryption\n",
    "    decoded = rsa.decode(decrypted)\n",
    "    #-----------------Attack-----------------\n",
    "    start = time.time()\n",
    "    d_init = 1\n",
    "    # if(e < d): d_init = e\n",
    "    # else: d_init = d // 10 \n",
    "    print(f\"e: {e}, d: {d}, d_init: {d_init}\")\n",
    "    while decrypted != rsa.group_decrypt(encrypted, d_init, n):\n",
    "        d_init += 1\n",
    "    end = time.time()\n",
    "    print(f\"Execution time: {round(end - start, 4)} seconds , i = {i}\")\n",
    "    decrypt_time.append(round(end - start, 4))\n",
    "    #----------------------------------------"
   ]
  },
  {
   "cell_type": "code",
   "execution_count": 4,
   "metadata": {},
   "outputs": [
    {
     "name": "stdout",
     "output_type": "stream",
     "text": [
      "[0.0, 0.0, 0.0, 0.0, 0.0, 0.0, 0.003, 0.0117, 0.003, 0.001, 0.1238, 0.005, 0.0659, 0.0009, 1.2132, 0.1125, 0.5813, 3.3264, 0.523, 15.6036, 8.8305, 17.5737, 101.3579]\n"
     ]
    }
   ],
   "source": [
    "print(decrypt_time)"
   ]
  },
  {
   "cell_type": "code",
   "execution_count": 5,
   "metadata": {},
   "outputs": [
    {
     "data": {
      "image/png": "[encoded data removed]",
      "text/plain": [
       "<Figure size 432x288 with 1 Axes>"
      ]
     },
     "metadata": {},
     "output_type": "display_data"
    }
   ],
   "source": [
    "\n",
    "x = np.linspace(0, end, len(decrypt_time))\n",
    "plt.figure(facecolor='w')\n",
    "plt.plot(x,decrypt_time)\n",
    "plt.xlabel('Key size')\n",
    "plt.ylabel('Decryption Time')\n",
    "plt.show()"
   ]
  },
  {
   "cell_type": "code",
   "execution_count": null,
   "metadata": {},
   "outputs": [],
   "source": []
  }
 ],
 "metadata": {
  "kernelspec": {
   "display_name": "base",
   "language": "python",
   "name": "python3"
  },
  "language_info": {
   "codemirror_mode": {
    "name": "ipython",
    "version": 3
   },
   "file_extension": ".py",
   "mimetype": "text/x-python",
   "name": "python",
   "nbconvert_exporter": "python",
   "pygments_lexer": "ipython3",
   "version": "3.9.12"
  },
  "orig_nbformat": 4
 },
 "nbformat": 4,
 "nbformat_minor": 2
}
